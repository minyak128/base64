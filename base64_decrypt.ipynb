{
  "nbformat": 4,
  "nbformat_minor": 0,
  "metadata": {
    "colab": {
      "name": "base64 decrypt",
      "provenance": []
    },
    "kernelspec": {
      "name": "python3",
      "display_name": "Python 3"
    }
  },
  "cells": [
    {
      "cell_type": "code",
      "metadata": {
        "id": "FWp0VA52v8NQ"
      },
      "source": [
        ""
      ],
      "execution_count": null,
      "outputs": []
    },
    {
      "cell_type": "code",
      "metadata": {
        "colab": {
          "base_uri": "https://localhost:8080/",
          "height": 35
        },
        "id": "AQTLP-gHHgEy",
        "outputId": "e1c29897-1031-4b84-b186-404e030c66bb"
      },
      "source": [
        "def decrypt_base64(ct):\n",
        "\n",
        "  #=がある場合は除く\n",
        "  ct = ct.replace('=', '')\n",
        "\n",
        "  #Base64の変換表から二進数にする\n",
        "  base64_dict = {\"110000\": \"w\", \"110001\": \"x\", \"110101\": \"1\", \"110100\": \"0\", \"010100\": \"U\", \"010101\": \"V\", \"001100\": \"M\", \"001101\": \"N\", \"011110\": \"e\", \"011111\": \"f\", \"001001\": \"J\", \"001000\": \"I\", \"011011\": \"b\", \"011010\": \"a\", \"000110\": \"G\", \"000111\": \"H\", \"000011\": \"D\", \"000010\": \"C\", \"100100\": \"k\", \"100101\": \"l\", \"111100\": \"8\", \"111101\": \"9\", \"100010\": \"i\", \"100011\": \"j\", \"101110\": \"u\", \"101111\": \"v\", \"111001\": \"5\", \"111000\": \"4\", \"101011\": \"r\", \"101010\": \"q\", \"110011\": \"z\", \"110010\": \"y\", \"010010\": \"S\", \"010011\": \"T\", \"010111\": \"X\", \"010110\": \"W\", \"110110\": \"2\", \"110111\": \"3\", \"011000\": \"Y\", \"011001\": \"Z\", \"001111\": \"P\", \"001110\": \"O\", \"011101\": \"d\", \"011100\": \"c\", \"001010\": \"K\", \"001011\": \"L\", \"101101\": \"t\", \"000000\": \"A\", \"000001\": \"B\", \"100111\": \"n\", \"100110\": \"m\", \"000101\": \"F\", \"000100\": \"E\", \"111111\": \"/\", \"111110\": \"+\", \"100001\": \"h\", \"100000\": \"g\", \"010001\": \"R\", \"010000\": \"Q\", \"101100\": \"s\", \"111010\": \"6\", \"111011\": \"7\", \"101000\": \"o\", \"101001\": \"p\"}\n",
        "  ct_bi = \"\"\n",
        "  for i in ct:\n",
        "    keys = [k for k, v in base64_dict.items() if v == i] \n",
        "    keys_str = \"\".join(keys)\n",
        "    ct_bi += keys_str \n",
        "  \n",
        "  #8ビットに区切る、余った0は捨てる\n",
        "  ct_bi = [ct_bi[i:i+8] for i in range(0, len(ct_bi), 8)]\n",
        "  if len(ct_bi[-1]) != 8:\n",
        "    ct_bi.pop()\n",
        " \n",
        "  #バイナリに変換\n",
        "  ct_binary = []\n",
        "  for i in ct_bi:\n",
        "    ct_binary.append(i.encode())\n",
        "\n",
        "  #hexに変換\n",
        "  ct_hex = []\n",
        "  for i in ct_binary:\n",
        "    ct_hex.append(hex(int(i, 2)))\n",
        "\n",
        "  #文字に変換\n",
        "  ct_decrypt = \"\"\n",
        "  for i in ct_hex:\n",
        "    ct_decrypt += chr(int(i, 16))\n",
        "\n",
        "  return ct_decrypt\n",
        "\n",
        "\n",
        "\n",
        "\n"
      ],
      "execution_count": null,
      "outputs": [
        {
          "output_type": "execute_result",
          "data": {
            "application/vnd.google.colaboratory.intrinsic+json": {
              "type": "string"
            },
            "text/plain": [
              "'Hello World'"
            ]
          },
          "metadata": {
            "tags": []
          },
          "execution_count": 129
        }
      ]
    }
  ]
}